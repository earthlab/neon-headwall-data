{
 "cells": [
  {
   "cell_type": "code",
   "execution_count": 1,
   "metadata": {},
   "outputs": [],
   "source": [
    "import os,sys\n",
    "from glob import glob\n",
    "import xarray as xr\n",
    "from matplotlib import pyplot as plt\n",
    "import numpy as np\n",
    "import geopandas as gpd\n",
    "import pandas as pd\n",
    "import matplotlib\n",
    "import fiona\n",
    "import rasterio as rio\n",
    "from rasterio.features import rasterize\n",
    "\n",
    "# helpers\n",
    "from xarr_helpers import *\n"
   ]
  },
  {
   "cell_type": "code",
   "execution_count": 2,
   "metadata": {},
   "outputs": [
    {
     "name": "stdout",
     "output_type": "stream",
     "text": [
      "point CRS: {'init': 'epsg:32613'}\n"
     ]
    },
    {
     "data": {
      "text/html": [
       "<div>\n",
       "<style scoped>\n",
       "    .dataframe tbody tr th:only-of-type {\n",
       "        vertical-align: middle;\n",
       "    }\n",
       "\n",
       "    .dataframe tbody tr th {\n",
       "        vertical-align: top;\n",
       "    }\n",
       "\n",
       "    .dataframe thead th {\n",
       "        text-align: right;\n",
       "    }\n",
       "</style>\n",
       "<table border=\"1\" class=\"dataframe\">\n",
       "  <thead>\n",
       "    <tr style=\"text-align: right;\">\n",
       "      <th></th>\n",
       "      <th>Id</th>\n",
       "      <th>comments</th>\n",
       "      <th>geometry</th>\n",
       "    </tr>\n",
       "  </thead>\n",
       "  <tbody>\n",
       "    <tr>\n",
       "      <th>0</th>\n",
       "      <td>0</td>\n",
       "      <td>NEON light tarp center</td>\n",
       "      <td>POINT (-105.2449209483192 40.13056064633826)</td>\n",
       "    </tr>\n",
       "    <tr>\n",
       "      <th>1</th>\n",
       "      <td>0</td>\n",
       "      <td>NEON dark tarp center</td>\n",
       "      <td>POINT (-105.2450429801881 40.13055609737145)</td>\n",
       "    </tr>\n",
       "    <tr>\n",
       "      <th>2</th>\n",
       "      <td>0</td>\n",
       "      <td>some other target?</td>\n",
       "      <td>POINT (-105.2449348460157 40.13027956799884)</td>\n",
       "    </tr>\n",
       "    <tr>\n",
       "      <th>3</th>\n",
       "      <td>0</td>\n",
       "      <td>road sample east of tarps</td>\n",
       "      <td>POINT (-105.2445969512152 40.13050721903751)</td>\n",
       "    </tr>\n",
       "    <tr>\n",
       "      <th>4</th>\n",
       "      <td>0</td>\n",
       "      <td>4-way intersection</td>\n",
       "      <td>POINT (-105.2445888333624 40.1306683804434)</td>\n",
       "    </tr>\n",
       "  </tbody>\n",
       "</table>\n",
       "</div>"
      ],
      "text/plain": [
       "   Id                   comments                                      geometry\n",
       "0   0     NEON light tarp center  POINT (-105.2449209483192 40.13056064633826)\n",
       "1   0      NEON dark tarp center  POINT (-105.2450429801881 40.13055609737145)\n",
       "2   0         some other target?  POINT (-105.2449348460157 40.13027956799884)\n",
       "3   0  road sample east of tarps  POINT (-105.2445969512152 40.13050721903751)\n",
       "4   0         4-way intersection   POINT (-105.2445888333624 40.1306683804434)"
      ]
     },
     "execution_count": 2,
     "metadata": {},
     "output_type": "execute_result"
    }
   ],
   "source": [
    "# load the table mountain shapefile\n",
    "point_file = r\"../arc/headwall_neon_poi.shp\"\n",
    "gdf = gpd.read_file(point_file)\n",
    "print('point CRS: {}'.format(gdf.crs))\n",
    "\n",
    "gdf_4326 = gdf.to_crs(epsg=4326)\n",
    "gdf_4326.head()"
   ]
  },
  {
   "cell_type": "code",
   "execution_count": null,
   "metadata": {},
   "outputs": [],
   "source": [
    "# NEON data files\n",
    "data_dirs = !ls -d ../neon_data/*\n",
    "radiance_files_april09 = glob(data_dirs[0] + '/L1/Spectrometer/RadianceH5/2019040915/*.h5')\n",
    "radiance_files_april10 = glob(data_dirs[1] + '/L1/Spectrometer/RadianceH5/2019040920/*.h5')\n",
    "\n",
    "reflectance_files_april09 = glob(data_dirs[0] + '/L1/Spectrometer/ReflectanceH5/2019040915/*.h5')\n",
    "reflectance_files_april10 = glob(data_dirs[1] + '/L1/Spectrometer/ReflectanceH5/2019040920/*.h5')\n",
    "\n",
    "\n",
    "# Headwall data files. Currently, only the Surface Reflectance products have been downloaded.\n",
    "data_dirs_SWIR = !ls -d ../headwall_data/SWIR/*\n",
    "data_dirs_VNIR = !ls -d ../headwall_data/VNIR/*\n",
    "\n",
    "# first two directories will be from table mountain. second two are from tennis courts @ CU South\n",
    "radiance_files_VNIR_april09 = glob(data_dirs_VNIR[0] + '/*.hdr')\n",
    "radiance_files_VNIR_april09 = [f[:-4] for f in radiance_files_VNIR_april09] # remove the .hdr\n",
    "\n",
    "radiance_files_SWIR_april09 = glob(data_dirs_SWIR[0] + '/*.hdr')\n",
    "radiance_files_SWIR_april09 = [f[:-4] for f in radiance_files_SWIR_april09] # remove the .hdr\n"
   ]
  },
  {
   "cell_type": "code",
   "execution_count": null,
   "metadata": {},
   "outputs": [],
   "source": [
    "reflectance_files_april09, radiance_files_VNIR_april09, radiance_files_SWIR_april09"
   ]
  },
  {
   "cell_type": "code",
   "execution_count": null,
   "metadata": {},
   "outputs": [],
   "source": [
    "## try to open one of the data files with xarray\n",
    "neon_ind=4\n",
    "if neon_ind % 2 == 0:\n",
    "    fl_dir = 'NS'\n",
    "else:\n",
    "    fl_dir = 'EW'\n",
    "    \n",
    "hw_ind=1\n",
    "data_file_VNIR = radiance_files_VNIR_april09[hw_ind]\n",
    "data_file_SWIR = radiance_files_SWIR_april09[hw_ind]\n",
    "data_file_NEON = reflectance_files_april09[neon_ind] # NEON_D10_R10C_DP1_20190409_172333_reflectance\n",
    "\n",
    "neon_id = os.path.basename(data_file_NEON).split('_')[2] # e.g., 'R10C'\n",
    "print('NEON ID: ', neon_id)\n",
    "print(data_file_VNIR)"
   ]
  },
  {
   "cell_type": "code",
   "execution_count": null,
   "metadata": {},
   "outputs": [],
   "source": [
    "## read the data into xarray datasets, chunk with Dask\n",
    "# first Headwall\n",
    "xarr_VNIR = xr.open_rasterio(data_file_VNIR, chunks=(256, 256, 256))\n",
    "xarr_SWIR = xr.open_rasterio(data_file_SWIR, chunks=(256, 256, 256))\n",
    "x_vnir, y_vnir = xarr_VNIR.coords['x'].values, xarr_VNIR.coords['y'].values\n",
    "x_swir, y_swir = xarr_SWIR.coords['x'].values, xarr_SWIR.coords['y'].values"
   ]
  },
  {
   "cell_type": "code",
   "execution_count": null,
   "metadata": {},
   "outputs": [],
   "source": [
    "# then NEON (dask chunking done in-function)\n",
    "x_neon_atcor, y_neon_atcor, xarr_NEON_atcor = NEON_create_refl_xarr_from_h5_file(data_file_NEON, nid=neon_id)\n",
    "\n",
    "# read the elm corrected data\n",
    "# data_file_NEON = r\"D:\\projects\\headwall_neon\\atcor_aois\\elm\\test_20190409_163351_radiance_elm.hdr\"\n",
    "# xarr_NEON = xr.open_rasterio(data_file_NEON, chunks=(256, 256, 256), driver='ENVI')\n",
    "\n",
    "data_file_NEON = r\"D:\\projects\\headwall_neon\\atcor_aois\\elm\\test_20190409_163351_radiance_elm_BSQ\"\n",
    "xarr_NEON = xr.open_rasterio(data_file_NEON, chunks=(256, 256, 256))\n",
    "x_neon, y_neon = xarr_NEON.coords['x'].values, xarr_NEON.coords['y'].values"
   ]
  },
  {
   "cell_type": "code",
   "execution_count": null,
   "metadata": {},
   "outputs": [],
   "source": [
    "x_neon, y_neon"
   ]
  },
  {
   "cell_type": "markdown",
   "metadata": {},
   "source": [
    "# Spatial extraction"
   ]
  },
  {
   "cell_type": "code",
   "execution_count": null,
   "metadata": {},
   "outputs": [],
   "source": [
    "buffer_dist = 3 # meters\n",
    "\n",
    "## use the shapefile\n",
    "pt_index = 0\n",
    "pt = gdf_4326['geometry'].values[pt_index]\n",
    "pt_label = gdf_4326['comments'].values[pt_index]\n",
    "pt_df = gpd.GeoDataFrame({'geometry' : [pt]}, crs=fiona.crs.from_epsg(4326))\n",
    "\n",
    "# buffer them in the correct coordinate systems\n",
    "pt_df_hw = pt_df.to_crs(epsg=3857).buffer(buffer_dist, resolution=1).to_crs(epsg=4326)\n",
    "pt_df_neon = pt_df.to_crs(epsg=32613).buffer(buffer_dist)"
   ]
  },
  {
   "cell_type": "code",
   "execution_count": null,
   "metadata": {},
   "outputs": [],
   "source": [
    "xarr_NEON.coords"
   ]
  },
  {
   "cell_type": "code",
   "execution_count": null,
   "metadata": {},
   "outputs": [],
   "source": [
    "## do the extraction\n",
    "neon_sub_cube_atcor, neon_arrs_atcor = extract_from_NEON((xarr_NEON_atcor, x_neon_atcor, y_neon_atcor), pt_df_neon)\n",
    "neon_sub_cube, neon_arrs = extract_from_NEON_ENVI((xarr_NEON, x_neon, y_neon), pt_df_neon)\n",
    "hw_vnir_cube, hw_swir_cube, hw_arrs = extract_from_headwall((xarr_VNIR, x_vnir, y_vnir), \n",
    "                                                            (xarr_SWIR, x_swir, y_swir),\n",
    "                                                            pt_df_hw)\n",
    "\n",
    "neon_wav_atcor, full_neon_atcor = neon_arrs_atcor\n",
    "neon_wav, full_neon = neon_arrs\n",
    "full_wav, full_ex = hw_arrs"
   ]
  },
  {
   "cell_type": "markdown",
   "metadata": {},
   "source": [
    "# plot mean of both systems"
   ]
  },
  {
   "cell_type": "code",
   "execution_count": null,
   "metadata": {},
   "outputs": [],
   "source": [
    "hw_mean = np.nanmean(full_ex, axis=1)\n",
    "hw_max = np.nanmax(full_ex, axis=1)\n",
    "hw_min = np.nanmin(full_ex, axis=1)\n",
    "\n",
    "neon_mean = np.nanmean(full_neon, axis=1)\n",
    "neon_max = np.nanmax(full_neon, axis=1)\n",
    "neon_min = np.nanmin(full_neon, axis=1)\n",
    "\n",
    "neon_mean_atcor = np.nanmean(full_neon_atcor, axis=1)\n",
    "neon_max_atcor = np.nanmax(full_neon_atcor, axis=1)\n",
    "neon_min_atcor = np.nanmin(full_neon_atcor, axis=1)"
   ]
  },
  {
   "cell_type": "code",
   "execution_count": null,
   "metadata": {},
   "outputs": [],
   "source": [
    "plt.figure(figsize=(20,10))\n",
    "plt.plot(full_wav, hw_mean)\n",
    "plt.fill_between(full_wav, hw_min, hw_max, alpha=0.1)\n",
    "plt.plot(neon_wav, neon_mean)\n",
    "plt.fill_between(neon_wav, neon_min, neon_max, alpha=0.1)\n",
    "plt.plot(neon_wav_atcor, neon_mean_atcor)\n",
    "plt.fill_between(neon_wav_atcor, neon_min_atcor, neon_max_atcor, alpha=0.1)\n",
    "plt.show()"
   ]
  },
  {
   "cell_type": "code",
   "execution_count": null,
   "metadata": {},
   "outputs": [],
   "source": [
    "## replot masking bad bands:\n",
    "# 1260 to 1560 nm (Bands 98-128)\n",
    "# 1760 to 1960 nm (Bands 148-170)\n",
    "bad_neon = np.where(((neon_wav > 1260) & (neon_wav < 1560)) | ((neon_wav > 1760) & (neon_wav < 1960)))\n",
    "bad_neon_atcor = np.where(((neon_wav_atcor > 1260) & (neon_wav_atcor < 1560)) | ((neon_wav_atcor > 1760) & (neon_wav_atcor < 1960)))\n",
    "bad_hw = np.where(((full_wav > 1260) & (full_wav < 1560)) | ((full_wav > 1760) & (full_wav < 1960)))"
   ]
  },
  {
   "cell_type": "code",
   "execution_count": null,
   "metadata": {},
   "outputs": [],
   "source": [
    "hw_mean_ma = hw_mean.copy()\n",
    "hw_mean_ma[bad_hw] = np.nan\n",
    "hw_max_ma = hw_max.copy()\n",
    "hw_max_ma[bad_hw] = np.nan\n",
    "hw_min_ma = hw_min.copy()\n",
    "hw_min_ma[bad_hw] = np.nan\n",
    "\n",
    "neon_mean_ma = neon_mean.copy()\n",
    "neon_mean_ma[bad_neon] = np.nan\n",
    "neon_max_ma = neon_max.copy()\n",
    "neon_max_ma[bad_neon] = np.nan\n",
    "neon_min_ma = neon_min.copy()\n",
    "neon_min_ma[bad_neon] = np.nan\n",
    "\n",
    "neon_mean_ma_atcor = neon_mean_atcor.copy()\n",
    "neon_mean_ma_atcor[bad_neon_atcor] = np.nan\n",
    "neon_max_ma_atcor = neon_max_atcor.copy()\n",
    "neon_max_ma_atcor[bad_neon_atcor] = np.nan\n",
    "neon_min_ma_atcor = neon_min_atcor.copy()\n",
    "neon_min_ma_atcor[bad_neon_atcor] = np.nan"
   ]
  },
  {
   "cell_type": "code",
   "execution_count": null,
   "metadata": {},
   "outputs": [],
   "source": [
    "font = {'family' : 'normal',\n",
    "        'weight' : 'medium',\n",
    "        'size'   : 20}\n",
    "\n",
    "matplotlib.rc('font', **font)\n",
    "\n",
    "plt.figure(figsize=(20,10))\n",
    "plt.plot(full_wav, hw_mean_ma, label='Headwall Average')\n",
    "plt.fill_between(full_wav, hw_min_ma, hw_max_ma, alpha=0.25)\n",
    "plt.plot(neon_wav, neon_mean_ma, label='NEON Average')\n",
    "plt.fill_between(neon_wav, neon_min_ma, neon_max_ma, alpha=0.25)\n",
    "plt.plot(neon_wav_atcor, neon_mean_ma_atcor, label='NEON (ATCOR) Average')\n",
    "plt.fill_between(neon_wav_atcor, neon_min_ma_atcor, neon_max_ma_atcor, alpha=0.25)\n",
    "\n",
    "plt.title('Comparison of Headwall NanoSpec ({0}m buffer) and NEON AVIRIS NextGen ({0}m buffer)\\n {1}'.format(buffer_dist, pt_label))\n",
    "plt.xlabel('Wavelength [nm]')\n",
    "plt.ylabel('Reflectance [unitless]')\n",
    "plt.grid(True)\n",
    "plt.legend()\n",
    "plt.show()"
   ]
  },
  {
   "cell_type": "markdown",
   "metadata": {},
   "source": [
    "# load the ASD for the white tarp"
   ]
  },
  {
   "cell_type": "code",
   "execution_count": null,
   "metadata": {},
   "outputs": [],
   "source": [
    "asd_spectra1 = \"../CUASD/20190409_TBMT_P3C1/0048WhiteTarp1/0048WhiteTarp1_refl.spectra\"\n",
    "asd_spectra2 = \"../CUASD/20190409_TBMT_P3C1/0048WhiteTarp2/0048WhiteTarp2_refl.spectra\"\n",
    "asd1 = pd.read_csv(asd_spectra1, names=['wavelength', 'refl'], header=None, delimiter=r'\\t', engine='python')\n",
    "asd2 = pd.read_csv(asd_spectra2, names=['wavelength', 'refl'], header=None, delimiter=r'\\t', engine='python')\n"
   ]
  },
  {
   "cell_type": "code",
   "execution_count": null,
   "metadata": {},
   "outputs": [],
   "source": [
    "ax = asd1.plot(x='wavelength', y='refl', figsize=(20,10), grid=True)\n",
    "asd2.plot(x='wavelength', y='refl', figsize=(20,10), grid=True, ax=ax)"
   ]
  },
  {
   "cell_type": "markdown",
   "metadata": {},
   "source": [
    "# they are pretty close, so just use the first one"
   ]
  },
  {
   "cell_type": "code",
   "execution_count": null,
   "metadata": {},
   "outputs": [],
   "source": [
    "## mask the water vapor features\n",
    "asd_wav = asd1.wavelength.values\n",
    "asd_refl = asd1.refl.values\n",
    "bad_asd = np.where(((asd_wav > 1260) & (asd_wav < 1560)) | ((asd_wav > 1760) & (asd_wav < 1960)))\n",
    "asd_refl[bad_asd] = np.nan"
   ]
  },
  {
   "cell_type": "code",
   "execution_count": null,
   "metadata": {},
   "outputs": [],
   "source": [
    "plt.figure(figsize=(20,10))\n",
    "plt.plot(full_wav, hw_mean_ma, label='Headwall Average')\n",
    "plt.fill_between(full_wav, hw_min_ma, hw_max_ma, alpha=0.25)\n",
    "plt.plot(neon_wav, neon_mean_ma, label='NEON (ELM) Average')\n",
    "plt.fill_between(neon_wav, neon_min_ma, neon_max_ma, alpha=0.25)\n",
    "plt.plot(neon_wav_atcor, neon_mean_ma_atcor, label='NEON (ATCOR) Average')\n",
    "plt.fill_between(neon_wav_atcor, neon_min_ma_atcor, neon_max_ma_atcor, alpha=0.25)\n",
    "\n",
    "# ASD spectra\n",
    "plt.plot(asd_wav, asd_refl, linewidth=6, alpha=0.5, label='ASD Spectra')\n",
    "\n",
    "plt.title('Comparison of Headwall NanoSpec ({0}m buffer) and NEON AVIRIS NextGen ({0}m buffer)\\n \\\n",
    "          {1} strip {2}'.format(buffer_dist, fl_dir, pt_label))\n",
    "plt.xlabel('Wavelength [nm]')\n",
    "plt.ylabel('Reflectance [unitless]')\n",
    "plt.grid(True)\n",
    "plt.legend()\n",
    "plt.show()"
   ]
  },
  {
   "cell_type": "code",
   "execution_count": null,
   "metadata": {},
   "outputs": [],
   "source": []
  },
  {
   "cell_type": "markdown",
   "metadata": {},
   "source": [
    "# do the same for dark tarp"
   ]
  },
  {
   "cell_type": "code",
   "execution_count": null,
   "metadata": {},
   "outputs": [],
   "source": [
    "## use the shapefile\n",
    "pt_index = 1 # dark tarp\n",
    "pt = gdf_4326['geometry'].values[pt_index]\n",
    "pt_label = gdf_4326['comments'].values[pt_index]\n",
    "pt_df = gpd.GeoDataFrame({'geometry' : [pt]}, crs=fiona.crs.from_epsg(4326))\n",
    "\n",
    "# buffer them in the correct coordinate systems\n",
    "pt_df_hw = pt_df.to_crs(epsg=3857).buffer(buffer_dist, resolution=1).to_crs(epsg=4326)\n",
    "pt_df_neon = pt_df.to_crs(epsg=32613).buffer(buffer_dist)\n",
    "\n",
    "\n",
    "## do the extraction\n",
    "neon_sub_cube_atcor, neon_arrs_atcor = extract_from_NEON((xarr_NEON_atcor, x_neon_atcor, y_neon_atcor), pt_df_neon)\n",
    "neon_sub_cube, neon_arrs = extract_from_NEON_ENVI((xarr_NEON, x_neon, y_neon), pt_df_neon)\n",
    "hw_vnir_cube, hw_swir_cube, hw_arrs = extract_from_headwall((xarr_VNIR, x_vnir, y_vnir), \n",
    "                                                            (xarr_SWIR, x_swir, y_swir),\n",
    "                                                            pt_df_hw)\n",
    "\n",
    "neon_wav_atcor, full_neon_atcor = neon_arrs_atcor\n",
    "neon_wav, full_neon = neon_arrs\n",
    "full_wav, full_ex = hw_arrs\n",
    "\n",
    "hw_mean = np.nanmean(full_ex, axis=1)\n",
    "hw_max = np.nanmax(full_ex, axis=1)\n",
    "hw_min = np.nanmin(full_ex, axis=1)\n",
    "\n",
    "neon_mean = np.nanmean(full_neon, axis=1)\n",
    "neon_max = np.nanmax(full_neon, axis=1)\n",
    "neon_min = np.nanmin(full_neon, axis=1)\n",
    "\n",
    "neon_mean_atcor = np.nanmean(full_neon_atcor, axis=1)\n",
    "neon_max_atcor = np.nanmax(full_neon_atcor, axis=1)\n",
    "neon_min_atcor = np.nanmin(full_neon_atcor, axis=1)\n",
    "\n",
    "## replot masking bad bands:\n",
    "# 1260 to 1560 nm (Bands 98-128)\n",
    "# 1760 to 1960 nm (Bands 148-170)\n",
    "bad_neon = np.where(((neon_wav > 1260) & (neon_wav < 1560)) | ((neon_wav > 1760) & (neon_wav < 1960)))\n",
    "bad_neon_atcor = np.where(((neon_wav_atcor > 1260) & (neon_wav_atcor < 1560)) | ((neon_wav_atcor > 1760) & (neon_wav_atcor < 1960)))\n",
    "bad_hw = np.where(((full_wav > 1260) & (full_wav < 1560)) | ((full_wav > 1760) & (full_wav < 1960)))\n",
    "\n",
    "\n",
    "hw_mean_ma = hw_mean.copy()\n",
    "hw_mean_ma[bad_hw] = np.nan\n",
    "hw_max_ma = hw_max.copy()\n",
    "hw_max_ma[bad_hw] = np.nan\n",
    "hw_min_ma = hw_min.copy()\n",
    "hw_min_ma[bad_hw] = np.nan\n",
    "\n",
    "neon_mean_ma = neon_mean.copy()\n",
    "neon_mean_ma[bad_neon] = np.nan\n",
    "neon_max_ma = neon_max.copy()\n",
    "neon_max_ma[bad_neon] = np.nan\n",
    "neon_min_ma = neon_min.copy()\n",
    "neon_min_ma[bad_neon] = np.nan\n",
    "\n",
    "neon_mean_ma_atcor = neon_mean_atcor.copy()\n",
    "neon_mean_ma_atcor[bad_neon_atcor] = np.nan\n",
    "neon_max_ma_atcor = neon_max_atcor.copy()\n",
    "neon_max_ma_atcor[bad_neon_atcor] = np.nan\n",
    "neon_min_ma_atcor = neon_min_atcor.copy()\n",
    "neon_min_ma_atcor[bad_neon_atcor] = np.nan\n",
    "\n",
    "asd_spectra1 = \"../CUASD/20190409_TBMT_P3C1/0003BlackTarp1/0003BlackTarp1_refl.spectra\"\n",
    "asd_spectra2 = \"../CUASD/20190409_TBMT_P3C1/0003BlackTarp1/0003BlackTarp1_refl.spectra\"\n",
    "asd1 = pd.read_csv(asd_spectra1, names=['wavelength', 'refl'], header=None, delimiter=r'\\t', engine='python')\n",
    "asd2 = pd.read_csv(asd_spectra2, names=['wavelength', 'refl'], header=None, delimiter=r'\\t', engine='python')\n",
    "\n",
    "## mask the water vapor features\n",
    "asd_wav = asd1.wavelength.values\n",
    "asd_refl = asd1.refl.values\n",
    "bad_asd = np.where(((asd_wav > 1260) & (asd_wav < 1560)) | ((asd_wav > 1760) & (asd_wav < 1960)))\n",
    "asd_refl[bad_asd] = np.nan"
   ]
  },
  {
   "cell_type": "code",
   "execution_count": null,
   "metadata": {},
   "outputs": [],
   "source": [
    "plt.figure(figsize=(20,10))\n",
    "plt.plot(full_wav, hw_mean_ma, label='Headwall Average')\n",
    "plt.fill_between(full_wav, hw_min_ma, hw_max_ma, alpha=0.25)\n",
    "plt.plot(neon_wav, neon_mean_ma, label='NEON (ELM) Average')\n",
    "plt.fill_between(neon_wav, neon_min_ma, neon_max_ma, alpha=0.25)\n",
    "plt.plot(neon_wav_atcor, neon_mean_ma_atcor, label='NEON (ATCOR) Average')\n",
    "plt.fill_between(neon_wav_atcor, neon_min_ma_atcor, neon_max_ma_atcor, alpha=0.25)\n",
    "\n",
    "# ASD spectra\n",
    "plt.plot(asd_wav, asd_refl, linewidth=6, alpha=0.5, label='ASD Spectra')\n",
    "\n",
    "plt.title('Comparison of Headwall NanoSpec ({0}m buffer) and NEON AVIRIS NextGen ({0}m buffer)\\n \\\n",
    "          {1} strip {2}'.format(buffer_dist, fl_dir, pt_label))\n",
    "plt.xlabel('Wavelength [nm]')\n",
    "plt.ylabel('Reflectance [unitless]')\n",
    "plt.grid(True)\n",
    "plt.legend()\n",
    "plt.show()"
   ]
  },
  {
   "cell_type": "markdown",
   "metadata": {},
   "source": [
    "Iterate through point locations and extract / write spectra"
   ]
  },
  {
   "cell_type": "code",
   "execution_count": null,
   "metadata": {},
   "outputs": [],
   "source": [
    "def extract_and_write_spectra(headwall_vnir_rad, headwall_swir_rad, headwall_vnir_refl, headwall_swir_refl, neon_refl, neon_rad, neon_elm, geodf, pt_index, buffer_dist=2):\n",
    "\n",
    "    # extract datasets from inputs\n",
    "    xarr_VNIR_rad, x_vnir_rad, y_vnir_rad = headwall_vnir_rad\n",
    "    xarr_SWIR_rad, x_swir_rad, y_swir_rad = headwall_swir_rad\n",
    "    xarr_VNIR_refl, x_vnir_refl, y_vnir_refl = headwall_vnir_refl\n",
    "    xarr_SWIR_refl, x_swir_refl, y_swir_refl = headwall_swir_refl\n",
    "    xarr_NEON_atcor, x_neon_atcor, y_neon_atcor = neon_refl\n",
    "    xarr_NEON_elm, x_neon_elm, y_neon_elm = neon_elm\n",
    "    xarr_NEON_rad, x_neon_rad, y_neon_rad = neon_rad\n",
    "\n",
    "    ## use the shapefile\n",
    "    pt_index = 1 # dark tarp\n",
    "    pt = geodf['geometry'].values[pt_index]\n",
    "    pt_label = geodf['comments'].values[pt_index]\n",
    "    pt_df = gpd.GeoDataFrame({'geometry' : [pt]}, crs=fiona.crs.from_epsg(4326))\n",
    "\n",
    "    # buffer them in the correct coordinate systems\n",
    "    pt_df_hw = pt_df.to_crs(epsg=3857).buffer(buffer_dist, resolution=1).to_crs(epsg=4326)\n",
    "    pt_df_neon = pt_df.to_crs(epsg=32613).buffer(buffer_dist)\n",
    "\n",
    "\n",
    "    ## do the extraction\n",
    "    # NEON processed reflectance data\n",
    "    neon_sub_cube_atcor, neon_arrs_atcor = extract_from_NEON((xarr_NEON_atcor, x_neon_atcor, y_neon_atcor), pt_df_neon)\n",
    "    \n",
    "    # ELM corrected NEON reflectance data\n",
    "    neon_sub_cube_elm, neon_arrs_elm = extract_from_NEON_ENVI((xarr_NEON_elm, x_neon_elm, y_neon_elm), pt_df_neon)\n",
    "    \n",
    "    # NEON at-sensor radiance data\n",
    "    neon_sub_cube_rad, neon_arrs_rad = extract_from_NEON((xarr_NEON_rad, x_neon_rad, y_neon_rad), pt_df_neon)\n",
    "    \n",
    "    # Headwall surface reflectance data\n",
    "    hw_vnir_cube, hw_swir_cube, hw_arrs = extract_from_headwall((xarr_VNIR, x_vnir, y_vnir), \n",
    "                                                                (xarr_SWIR, x_swir, y_swir),\n",
    "                                                                pt_df_hw)\n",
    "    \n",
    "    # Headwall surface reflectance data\n",
    "    hw_vnir_cube_refl, hw_swir_cube_refl, hw_arrs_refl = extract_from_headwall((xarr_VNIR_refl, x_vnir_refl, y_vnir_refl), \n",
    "                                                                                (xarr_SWIR_refl, x_swir_refl, y_swir_refl),\n",
    "                                                                                pt_df_hw)\n",
    "    # Headwall at-sensor radiance data\n",
    "    hw_vnir_cube_rad, hw_swir_cube_rad, hw_arrs_rad = extract_from_headwall((xarr_VNIR_rad, x_vnir_rad, y_vnir_rad), \n",
    "                                                                            (xarr_SWIR_rad, x_swir_rad, y_swir_rad),\n",
    "                                                                            pt_df_hw)\n",
    "\n",
    "    \n",
    "    # extract data\n",
    "    neon_wav_atcor, full_neon_atcor = neon_arrs_atcor\n",
    "    neon_wav_elm, full_neon_elm = neon_arrs_elm\n",
    "    neon_wav_rad, full_neon_rad = neon_arrs_rad\n",
    "    hw_vnir_wav_rad, full_hw_vnir_rad = hw_vnir_cube_rad\n",
    "    hw_swir_wav_rad, full_hw_swir_rad = hw_swir_cube_rad\n",
    "    hw_vnir_wav_refl, full_hw_vnir_refl = hw_vnir_cube_refl\n",
    "    hw_swir_wav_refl, full_hw_swir_refl = hw_swir_cube_refl\n",
    "\n",
    "    # take spectral means\n",
    "    hw_vnir_mean_refl = np.nanmean(full_hw_vnir_refl, axis=1)   \n",
    "    hw_vnir_mean_rad = np.nanmean(full_hw_vnir_rad, axis=1)   \n",
    "    hw_swir_mean_refl = np.nanmean(full_hw_swir_refl, axis=1)   \n",
    "    hw_swir_mean_rad = np.nanmean(full_hw_swir_rad, axis=1)   \n",
    "    neon_mean_elm = np.nanmean(full_neon_elm, axis=1)\n",
    "    neon_mean_atcor = np.nanmean(full_neon_atcor, axis=1)\n",
    "    neon_mean_rad = np.nanmean(full_neon_rad)\n",
    "    \n",
    "    # write to CSV"
   ]
  },
  {
   "cell_type": "code",
   "execution_count": 3,
   "metadata": {},
   "outputs": [
    {
     "name": "stdout",
     "output_type": "stream",
     "text": [
      "NEON ID:  R10C\n",
      "../headwall_data/VNIR/TableMtn_Flight1_processed\\TM_F1_S3\n"
     ]
    }
   ],
   "source": [
    "# NEON data files\n",
    "data_dirs = !ls -d ../neon_data/*\n",
    "radiance_files_april09 = glob(data_dirs[0] + '/L1/Spectrometer/RadianceH5/2019040915/*.h5')\n",
    "reflectance_files_april09 = glob(data_dirs[0] + '/L1/Spectrometer/ReflectanceH5/2019040915/*.h5')\n",
    "\n",
    "# Headwall data files. Currently, only the Surface Reflectance products have been downloaded.\n",
    "data_dirs_SWIR = !ls -d ../headwall_data/SWIR/*\n",
    "data_dirs_VNIR = !ls -d ../headwall_data/VNIR/*\n",
    "\n",
    "# Headwall... first two directories will be from table mountain. second two are from tennis courts @ CU South\n",
    "refl_files_VNIR_april09 = glob(data_dirs_VNIR[0] + '/*.hdr')\n",
    "refl_files_VNIR_april09 = [f[:-4] for f in refl_files_VNIR_april09] # remove the .hdr\n",
    "refl_files_SWIR_april09 = glob(data_dirs_SWIR[0] + '/*.hdr')\n",
    "refl_files_SWIR_april09 = [f[:-4] for f in refl_files_SWIR_april09] # remove the .hdr\n",
    "\n",
    "## try to open one of the data files with xarray\n",
    "neon_ind=4\n",
    "if neon_ind % 2 == 0:\n",
    "    fl_dir = 'NS'\n",
    "else:\n",
    "    fl_dir = 'EW'\n",
    "    \n",
    "hw_ind=2\n",
    "data_file_VNIR = refl_files_VNIR_april09[hw_ind]\n",
    "data_file_SWIR = refl_files_SWIR_april09[hw_ind]\n",
    "data_file_NEON = reflectance_files_april09[neon_ind] # NEON_D10_R10C_DP1_20190409_172333_reflectance\n",
    "\n",
    "neon_id = os.path.basename(data_file_NEON).split('_')[2] # e.g., 'R10C'\n",
    "print('NEON ID: ', neon_id)\n",
    "print(data_file_VNIR)\n",
    "\n",
    "\n",
    "# filenames\n",
    "neon_elm_file = r\"D:\\projects\\headwall_neon\\atcor_aois\\elm\\test_20190409_163351_radiance_elm_BSQ\"\n",
    "neon_rad_file = radiance_files_april09[neon_ind]\n",
    "neon_atcor_file = reflectance_files_april09[neon_ind]\n",
    "hw_swir_refl_file = refl_files_SWIR_april09[hw_ind]\n",
    "hw_swir_rad_file = r\"D:\\projects\\headwall_neon\\headwall_data\\raw\\radiance\\headwall_TM_block7443_swir_rad_glt\"\n",
    "hw_vnir_refl_file = refl_files_VNIR_april09[hw_ind] \n",
    "hw_vnir_rad_file = r\"D:\\projects\\headwall_neon\\headwall_data\\raw\\radiance\\headwall_TM_block7296_vnir_rad_glt\""
   ]
  },
  {
   "cell_type": "code",
   "execution_count": 4,
   "metadata": {},
   "outputs": [
    {
     "name": "stderr",
     "output_type": "stream",
     "text": [
      "C:\\software\\anaconda3\\envs\\eapy_gbdx\\lib\\site-packages\\h5py\\_hl\\dataset.py:313: H5pyDeprecationWarning: dataset.value has been deprecated. Use dataset[()] instead.\n",
      "  \"Use dataset[()] instead.\", H5pyDeprecationWarning)\n",
      "C:\\software\\anaconda3\\envs\\eapy_gbdx\\lib\\site-packages\\h5py\\_hl\\dataset.py:313: H5pyDeprecationWarning: dataset.value has been deprecated. Use dataset[()] instead.\n",
      "  \"Use dataset[()] instead.\", H5pyDeprecationWarning)\n"
     ]
    }
   ],
   "source": [
    "## read the data into xarray datasets, chunk with Dask\n",
    "# first Headwall\n",
    "xarr_VNIR_refl = xr.open_rasterio(hw_vnir_refl_file, chunks=(256, 256, 256))\n",
    "xarr_SWIR_refl = xr.open_rasterio(hw_swir_refl_file, chunks=(256, 256, 256))\n",
    "x_vnir_refl, y_vnir_refl = xarr_VNIR_refl.coords['x'].values, xarr_VNIR_refl.coords['y'].values\n",
    "x_swir_refl, y_swir_refl = xarr_SWIR_refl.coords['x'].values, xarr_SWIR_refl.coords['y'].values\n",
    "\n",
    "xarr_VNIR_rad = xr.open_rasterio(hw_vnir_rad_file, chunks=(256, 256, 256))\n",
    "xarr_SWIR_rad = xr.open_rasterio(hw_swir_rad_file, chunks=(256, 256, 256))\n",
    "x_vnir_rad, y_vnir_rad = xarr_VNIR_rad.coords['x'].values, xarr_VNIR_rad.coords['y'].values\n",
    "x_swir_rad, y_swir_rad = xarr_SWIR_rad.coords['x'].values, xarr_SWIR_rad.coords['y'].values\n",
    "\n",
    "# then NEON (dask chunking done in-function)\n",
    "x_neon_atcor, y_neon_atcor, xarr_NEON_atcor = NEON_create_refl_xarr_from_h5_file(neon_atcor_file, nid=neon_id)\n",
    "xarr_NEON_elm = xr.open_rasterio(neon_elm_file, chunks=(256, 256, 256))\n",
    "x_neon_elm, y_neon_elm = xarr_NEON_elm.coords['x'].values, xarr_NEON_elm.coords['y'].values\n",
    "x_neon_rad, y_neon_rad, xarr_NEON_rad = NEON_create_rad_xarr_from_h5_file(neon_rad_file, nid=neon_id)\n",
    "\n",
    "\n",
    "headwall_vnir_rad = (xarr_VNIR_rad, x_vnir_rad, y_vnir_rad)\n",
    "headwall_swir_rad = (xarr_SWIR_rad, x_swir_rad, y_swir_rad)\n",
    "headwall_vnir_refl = (xarr_VNIR_refl, x_vnir_refl, y_vnir_refl)\n",
    "headwall_swir_refl = (xarr_SWIR_refl, x_swir_refl, y_swir_refl)\n",
    "neon_refl = (xarr_NEON_atcor, x_neon_atcor, y_neon_atcor)\n",
    "neon_rad = (xarr_NEON_rad, x_neon_rad, y_neon_rad)\n",
    "neon_elm = (xarr_NEON_elm, x_neon_elm, y_neon_elm)\n",
    "\n",
    "geodf = gdf_4326.copy()"
   ]
  },
  {
   "cell_type": "code",
   "execution_count": null,
   "metadata": {},
   "outputs": [],
   "source": [
    "#(headwall_vnir_rad, headwall_swir_rad, headwall_vnir_refl, headwall_swir_refl, neon_refl, neon_rad, neon_elm, geodf, pt_index, buffer_dist=2):\n",
    "\n",
    "buffer_dist=3\n",
    "res=2\n",
    "##### HERE BEGINS THE FUNCTION !!!!!! #####\n",
    "\n",
    "# extract datasets from inputs\n",
    "xarr_VNIR_rad, x_vnir_rad, y_vnir_rad = headwall_vnir_rad\n",
    "xarr_SWIR_rad, x_swir_rad, y_swir_rad = headwall_swir_rad\n",
    "xarr_VNIR_refl, x_vnir_refl, y_vnir_refl = headwall_vnir_refl\n",
    "xarr_SWIR_refl, x_swir_refl, y_swir_refl = headwall_swir_refl\n",
    "xarr_NEON_atcor, x_neon_atcor, y_neon_atcor = neon_refl\n",
    "xarr_NEON_elm, x_neon_elm, y_neon_elm = neon_elm\n",
    "xarr_NEON_rad, x_neon_rad, y_neon_rad = neon_rad\n",
    "\n",
    "## use the shapefile\n",
    "pt_index = 1 # dark tarp\n",
    "pt = geodf['geometry'].values[pt_index]\n",
    "pt_label = geodf['comments'].values[pt_index]\n",
    "pt_df = gpd.GeoDataFrame({'geometry' : [pt]}, crs=fiona.crs.from_epsg(4326))\n",
    "\n",
    "# buffer them in the correct coordinate systems\n",
    "pt_df_hw = pt_df.to_crs(epsg=32613).buffer(buffer_dist, resolution=res).to_crs(epsg=4326)\n",
    "pt_df_neon = pt_df.to_crs(epsg=32613).buffer(buffer_dist)\n",
    "\n",
    "\n",
    "## do the extraction\n",
    "# NEON processed reflectance data\n",
    "neon_sub_cube_atcor, neon_arrs_atcor = extract_from_NEON((xarr_NEON_atcor, x_neon_atcor, y_neon_atcor), pt_df_neon)\n",
    "\n",
    "# ELM corrected NEON reflectance data\n",
    "neon_sub_cube_elm, neon_arrs_elm = extract_from_NEON_ENVI((xarr_NEON_elm, x_neon_elm, y_neon_elm), pt_df_neon)\n",
    "\n",
    "# NEON at-sensor radiance data\n",
    "neon_sub_cube_rad, neon_arrs_rad = extract_from_NEON((xarr_NEON_rad, x_neon_rad, y_neon_rad), pt_df_neon)\n",
    "\n",
    "# Headwall surface reflectance data\n",
    "# hw_vnir_cube, hw_swir_cube, hw_arrs = extract_from_headwall((xarr_VNIR, x_vnir, y_vnir), \n",
    "#                                                             (xarr_SWIR, x_swir, y_swir),\n",
    "#                                                             pt_df_hw)\n",
    "\n",
    "# Headwall surface reflectance data\n",
    "hw_vnir_cube_refl, hw_swir_cube_refl, hw_arrs_refl = extract_from_headwall((xarr_VNIR_refl, x_vnir_refl, y_vnir_refl), \n",
    "                                                                            (xarr_SWIR_refl, x_swir_refl, y_swir_refl),\n",
    "                                                                            pt_df_hw)\n",
    "print('created reflectance')\n",
    "# Headwall at-sensor radiance data\n",
    "hw_vnir_cube_rad, hw_swir_cube_rad, hw_arrs_rad = extract_from_headwall((xarr_VNIR_rad, x_vnir_rad, y_vnir_rad), \n",
    "                                                                        (xarr_SWIR_rad, x_swir_rad, y_swir_rad),\n",
    "                                                                        pt_df_hw)\n",
    "\n",
    "\n",
    "# extract data\n",
    "neon_wav_atcor, full_neon_atcor = neon_arrs_atcor\n",
    "neon_wav_elm, full_neon_elm = neon_arrs_elm\n",
    "neon_wav_rad, full_neon_rad = neon_arrs_rad\n",
    "hw_vnir_wav_rad, full_hw_vnir_rad = hw_vnir_cube_rad\n",
    "hw_swir_wav_rad, full_hw_swir_rad = hw_swir_cube_rad\n",
    "hw_vnir_wav_refl, full_hw_vnir_refl = hw_vnir_cube_refl\n",
    "hw_swir_wav_refl, full_hw_swir_refl = hw_swir_cube_refl\n",
    "\n",
    "# take spectral means\n",
    "hw_vnir_mean_refl = np.nanmean(full_hw_vnir_refl, axis=1)   \n",
    "hw_vnir_mean_rad = np.nanmean(full_hw_vnir_rad, axis=1)   \n",
    "hw_swir_mean_refl = np.nanmean(full_hw_swir_refl, axis=1)   \n",
    "hw_swir_mean_rad = np.nanmean(full_hw_swir_rad, axis=1)   \n",
    "neon_mean_elm = np.nanmean(full_neon_elm, axis=1)\n",
    "neon_mean_atcor = np.nanmean(full_neon_atcor, axis=1)\n",
    "neon_mean_rad = np.nanmean(full_neon_rad)"
   ]
  },
  {
   "cell_type": "code",
   "execution_count": null,
   "metadata": {},
   "outputs": [],
   "source": [
    "with rio.open(hw_swir_rad_file) as src:\n",
    "    print(src.profile)\n",
    "    \n",
    "with rio.open(hw_swir_refl_file) as src:\n",
    "    print(src.profile)"
   ]
  },
  {
   "cell_type": "markdown",
   "metadata": {},
   "source": [
    "# debug"
   ]
  },
  {
   "cell_type": "code",
   "execution_count": 14,
   "metadata": {},
   "outputs": [
    {
     "ename": "CPLE_AppDefinedError",
     "evalue": "Cannot invert geotransform",
     "output_type": "error",
     "traceback": [
      "\u001b[1;31m---------------------------------------------------------------------------\u001b[0m",
      "\u001b[1;31mCPLE_AppDefinedError\u001b[0m                      Traceback (most recent call last)",
      "\u001b[1;32m<ipython-input-14-37a271b16192>\u001b[0m in \u001b[0;36m<module>\u001b[1;34m\u001b[0m\n\u001b[0;32m     40\u001b[0m \u001b[0mds_vnir\u001b[0m \u001b[1;33m=\u001b[0m \u001b[0mxr\u001b[0m\u001b[1;33m.\u001b[0m\u001b[0mDataset\u001b[0m\u001b[1;33m(\u001b[0m\u001b[0mcoords\u001b[0m\u001b[1;33m=\u001b[0m\u001b[1;33m{\u001b[0m\u001b[1;34m'y'\u001b[0m\u001b[1;33m:\u001b[0m\u001b[0my_vnir\u001b[0m\u001b[1;33m,\u001b[0m \u001b[1;34m'x'\u001b[0m\u001b[1;33m:\u001b[0m\u001b[0mx_vnir\u001b[0m\u001b[1;33m}\u001b[0m\u001b[1;33m)\u001b[0m\u001b[1;33m\u001b[0m\u001b[1;33m\u001b[0m\u001b[0m\n\u001b[0;32m     41\u001b[0m \u001b[0mshapes\u001b[0m \u001b[1;33m=\u001b[0m \u001b[1;33m[\u001b[0m\u001b[1;33m(\u001b[0m\u001b[0mshape\u001b[0m\u001b[1;33m,\u001b[0m \u001b[0mn\u001b[0m\u001b[1;33m)\u001b[0m \u001b[1;32mfor\u001b[0m \u001b[0mn\u001b[0m\u001b[1;33m,\u001b[0m \u001b[0mshape\u001b[0m \u001b[1;32min\u001b[0m \u001b[0menumerate\u001b[0m\u001b[1;33m(\u001b[0m\u001b[0mgeodf\u001b[0m\u001b[1;33m.\u001b[0m\u001b[0mgeometry\u001b[0m\u001b[1;33m)\u001b[0m\u001b[1;33m]\u001b[0m\u001b[1;33m\u001b[0m\u001b[1;33m\u001b[0m\u001b[0m\n\u001b[1;32m---> 42\u001b[1;33m \u001b[0mds_vnir\u001b[0m\u001b[1;33m[\u001b[0m\u001b[1;34m'aoi'\u001b[0m\u001b[1;33m]\u001b[0m \u001b[1;33m=\u001b[0m \u001b[0mrasterize\u001b[0m\u001b[1;33m(\u001b[0m\u001b[0mshapes\u001b[0m\u001b[1;33m,\u001b[0m \u001b[0mds_vnir\u001b[0m\u001b[1;33m.\u001b[0m\u001b[0mcoords\u001b[0m\u001b[1;33m)\u001b[0m\u001b[1;33m\u001b[0m\u001b[1;33m\u001b[0m\u001b[0m\n\u001b[0m\u001b[0;32m     43\u001b[0m \u001b[0mds_vnir\u001b[0m\u001b[1;33m[\u001b[0m\u001b[1;34m'aoi'\u001b[0m\u001b[1;33m]\u001b[0m \u001b[1;33m=\u001b[0m \u001b[0mds_vnir\u001b[0m\u001b[1;33m.\u001b[0m\u001b[0maoi\u001b[0m \u001b[1;33m+\u001b[0m \u001b[1;36m1\u001b[0m\u001b[1;33m\u001b[0m\u001b[1;33m\u001b[0m\u001b[0m\n\u001b[0;32m     44\u001b[0m \u001b[1;33m\u001b[0m\u001b[0m\n",
      "\u001b[1;32mD:\\projects\\headwall_neon\\notebooks\\xarr_helpers.py\u001b[0m in \u001b[0;36mrasterize\u001b[1;34m(shapes, coords, fill, **kwargs)\u001b[0m\n\u001b[0;32m    109\u001b[0m     raster = features.rasterize(shapes, out_shape=out_shape,\n\u001b[0;32m    110\u001b[0m                                 \u001b[0mfill\u001b[0m\u001b[1;33m=\u001b[0m\u001b[0mfill\u001b[0m\u001b[1;33m,\u001b[0m \u001b[0mtransform\u001b[0m\u001b[1;33m=\u001b[0m\u001b[0mtransform\u001b[0m\u001b[1;33m,\u001b[0m\u001b[1;33m\u001b[0m\u001b[1;33m\u001b[0m\u001b[0m\n\u001b[1;32m--> 111\u001b[1;33m                                 dtype=float, **kwargs)\n\u001b[0m\u001b[0;32m    112\u001b[0m     \u001b[1;32mreturn\u001b[0m \u001b[0mxr\u001b[0m\u001b[1;33m.\u001b[0m\u001b[0mDataArray\u001b[0m\u001b[1;33m(\u001b[0m\u001b[0mraster\u001b[0m\u001b[1;33m,\u001b[0m \u001b[0mcoords\u001b[0m\u001b[1;33m=\u001b[0m\u001b[0mcoords\u001b[0m\u001b[1;33m,\u001b[0m \u001b[0mdims\u001b[0m\u001b[1;33m=\u001b[0m\u001b[1;33m(\u001b[0m\u001b[1;34m'y'\u001b[0m\u001b[1;33m,\u001b[0m \u001b[1;34m'x'\u001b[0m\u001b[1;33m)\u001b[0m\u001b[1;33m)\u001b[0m\u001b[1;33m\u001b[0m\u001b[1;33m\u001b[0m\u001b[0m\n\u001b[0;32m    113\u001b[0m \u001b[1;33m\u001b[0m\u001b[0m\n",
      "\u001b[1;32mC:\\software\\anaconda3\\envs\\eapy_gbdx\\lib\\site-packages\\rasterio\\env.py\u001b[0m in \u001b[0;36mwrapper\u001b[1;34m(*args, **kwds)\u001b[0m\n\u001b[0;32m    373\u001b[0m         \u001b[1;32melse\u001b[0m\u001b[1;33m:\u001b[0m\u001b[1;33m\u001b[0m\u001b[1;33m\u001b[0m\u001b[0m\n\u001b[0;32m    374\u001b[0m             \u001b[1;32mwith\u001b[0m \u001b[0mEnv\u001b[0m\u001b[1;33m.\u001b[0m\u001b[0mfrom_defaults\u001b[0m\u001b[1;33m(\u001b[0m\u001b[1;33m)\u001b[0m\u001b[1;33m:\u001b[0m\u001b[1;33m\u001b[0m\u001b[1;33m\u001b[0m\u001b[0m\n\u001b[1;32m--> 375\u001b[1;33m                 \u001b[1;32mreturn\u001b[0m \u001b[0mf\u001b[0m\u001b[1;33m(\u001b[0m\u001b[1;33m*\u001b[0m\u001b[0margs\u001b[0m\u001b[1;33m,\u001b[0m \u001b[1;33m**\u001b[0m\u001b[0mkwds\u001b[0m\u001b[1;33m)\u001b[0m\u001b[1;33m\u001b[0m\u001b[1;33m\u001b[0m\u001b[0m\n\u001b[0m\u001b[0;32m    376\u001b[0m     \u001b[1;32mreturn\u001b[0m \u001b[0mwrapper\u001b[0m\u001b[1;33m\u001b[0m\u001b[1;33m\u001b[0m\u001b[0m\n\u001b[0;32m    377\u001b[0m \u001b[1;33m\u001b[0m\u001b[0m\n",
      "\u001b[1;32mC:\\software\\anaconda3\\envs\\eapy_gbdx\\lib\\site-packages\\rasterio\\features.py\u001b[0m in \u001b[0;36mrasterize\u001b[1;34m(shapes, out_shape, fill, out, transform, all_touched, merge_alg, default_value, dtype)\u001b[0m\n\u001b[0;32m    317\u001b[0m \u001b[1;33m\u001b[0m\u001b[0m\n\u001b[0;32m    318\u001b[0m     \u001b[0mtransform\u001b[0m \u001b[1;33m=\u001b[0m \u001b[0mguard_transform\u001b[0m\u001b[1;33m(\u001b[0m\u001b[0mtransform\u001b[0m\u001b[1;33m)\u001b[0m\u001b[1;33m\u001b[0m\u001b[1;33m\u001b[0m\u001b[0m\n\u001b[1;32m--> 319\u001b[1;33m     \u001b[0m_rasterize\u001b[0m\u001b[1;33m(\u001b[0m\u001b[0mvalid_shapes\u001b[0m\u001b[1;33m,\u001b[0m \u001b[0mout\u001b[0m\u001b[1;33m,\u001b[0m \u001b[0mtransform\u001b[0m\u001b[1;33m,\u001b[0m \u001b[0mall_touched\u001b[0m\u001b[1;33m,\u001b[0m \u001b[0mmerge_alg\u001b[0m\u001b[1;33m)\u001b[0m\u001b[1;33m\u001b[0m\u001b[1;33m\u001b[0m\u001b[0m\n\u001b[0m\u001b[0;32m    320\u001b[0m     \u001b[1;32mreturn\u001b[0m \u001b[0mout\u001b[0m\u001b[1;33m\u001b[0m\u001b[1;33m\u001b[0m\u001b[0m\n\u001b[0;32m    321\u001b[0m \u001b[1;33m\u001b[0m\u001b[0m\n",
      "\u001b[1;32mrasterio\\_features.pyx\u001b[0m in \u001b[0;36mrasterio._features._rasterize\u001b[1;34m()\u001b[0m\n",
      "\u001b[1;32mrasterio\\_features.pyx\u001b[0m in \u001b[0;36mrasterio._features._rasterize\u001b[1;34m()\u001b[0m\n",
      "\u001b[1;32mrasterio\\_err.pyx\u001b[0m in \u001b[0;36mrasterio._err.exc_wrap_int\u001b[1;34m()\u001b[0m\n",
      "\u001b[1;31mCPLE_AppDefinedError\u001b[0m: Cannot invert geotransform"
     ]
    }
   ],
   "source": [
    "buffer_dist=3\n",
    "res=2\n",
    "##### HERE BEGINS THE FUNCTION !!!!!! #####\n",
    "\n",
    "xarr_VNIR_rad = xr.open_rasterio(hw_vnir_rad_file, chunks=(256, 256, 256))\n",
    "xarr_SWIR_rad = xr.open_rasterio(hw_swir_rad_file, chunks=(256, 256, 256))\n",
    "x_vnir_rad, y_vnir_rad = xarr_VNIR_rad.coords['x'].values, xarr_VNIR_rad.coords['y'].values\n",
    "x_swir_rad, y_swir_rad = xarr_SWIR_rad.coords['x'].values, xarr_SWIR_rad.coords['y'].values\n",
    "\n",
    "# hw_vnir_cube_rad, hw_swir_cube_rad, hw_arrs_rad = extract_from_headwall((xarr_VNIR_rad, x_vnir_rad, y_vnir_rad), \n",
    "#                                                                         (xarr_SWIR_rad, x_swir_rad, y_swir_rad),\n",
    "#                                                                         pt_df_hw)\n",
    "\n",
    "\n",
    "# geodf = pt_df_hw.copy()\n",
    "geodf = gdf_4326.copy()\n",
    "\n",
    "## use the shapefile\n",
    "pt_index = 1 # dark tarp\n",
    "pt = geodf['geometry'].values[pt_index]\n",
    "pt_label = geodf['comments'].values[pt_index]\n",
    "pt_df = gpd.GeoDataFrame({'geometry' : [pt]}, crs=fiona.crs.from_epsg(4326))\n",
    "\n",
    "# buffer them in the correct coordinate systems\n",
    "pt_df_hw = pt_df.to_crs(epsg=32613).buffer(buffer_dist, resolution=res).to_crs(epsg=4326)\n",
    "pt_df_neon = pt_df.to_crs(epsg=32613).buffer(buffer_dist)\n",
    "\n",
    " # check to make sure a geometry is provided\n",
    "if geodf is None:\n",
    "    raise ValueError('Please provide a valid geometry')\n",
    "\n",
    "\n",
    "# parse the inputs\n",
    "xarr_vn, x_vnir, y_vnir = (xarr_VNIR_rad, x_vnir_rad, y_vnir_rad)\n",
    "xarr_sw, x_swir, y_swir = (xarr_SWIR_rad, x_swir_rad, y_swir_rad)\n",
    "\n",
    "geodf = pt_df_hw.copy()\n",
    "\n",
    "# create mask datasets for the VNIR and SWIR data separately\n",
    "ds_vnir = xr.Dataset(coords={'y':y_vnir, 'x':x_vnir})\n",
    "shapes = [(shape, n) for n, shape in enumerate(geodf.geometry)]\n",
    "ds_vnir['aoi'] = rasterize(shapes, ds_vnir.coords)\n",
    "ds_vnir['aoi'] = ds_vnir.aoi + 1\n",
    "\n",
    "ds_swir = xr.Dataset(coords={'y':y_swir, 'x':x_swir})\n",
    "shapes = [(shape, n) for n, shape in enumerate(geodf.geometry)]\n",
    "ds_swir['aoi'] = rasterize(shapes, ds_swir.coords)\n",
    "ds_swir['aoi'] = ds_swir.aoi + 1\n",
    "\n",
    "# apply the mask to the data cube\n",
    "example_vnir = ds_vnir.aoi * xarr_vn \n",
    "example_swir = ds_swir.aoi * xarr_sw\n",
    "\n",
    "# get the valid y and x coordinates, then reduce to unique values\n",
    "val_y, val_x = np.where(ds_vnir.aoi==1)\n",
    "u_y = np.unique(val_y)\n",
    "u_x = np.unique(val_x)\n",
    "ex_vnir = example_vnir.sel(y=y_vnir[u_y], x=x_vnir[u_x])\n",
    "\n",
    "\n",
    "val_y, val_x = np.where(ds_swir.aoi==1)\n",
    "u_y = np.unique(val_y)\n",
    "u_x = np.unique(val_x)\n",
    "ex_swir = example_swir.sel(y=y_swir[u_y], x=x_swir[u_x])\n",
    "\n",
    "print(ex_vnir.shape, ex_swir.shape)\n",
    "# shapes may be different....\n",
    "if ex_vnir.shape != ex_swir.shape:\n",
    "    warnings.warn('extracted shapes are not equal, shaving some off...')\n",
    "\n",
    "    min_shape = min(ex_vnir.shape, ex_swir.shape)\n",
    "    ex_swir = ex_swir[:min_shape[0], :min_shape[1], :min_shape[2]]\n",
    "    ex_vnir = ex_vnir[:min_shape[0], :min_shape[1], :min_shape[2]]\n",
    "\n",
    "print(ex_vnir.shape, ex_swir.shape)\n",
    "\n",
    "# concatenate the data\n",
    "full_ex = np.vstack((ex_vnir.values.reshape(-1, ex_vnir.shape[-1]).T, ex_swir.values.reshape(-1, ex_swir.shape[-1]).T))\n",
    "\n",
    "\n",
    "# concatenate the wavelength vectors\n",
    "full_wav = np.concatenate((ex_vnir.coords['wavelength'].values, ex_swir.coords['wavelength'].values))\n",
    "full_wav = np.unique(full_wav)"
   ]
  },
  {
   "cell_type": "code",
   "execution_count": null,
   "metadata": {
    "hideCode": true
   },
   "outputs": [],
   "source": []
  },
  {
   "cell_type": "code",
   "execution_count": 40,
   "metadata": {},
   "outputs": [
    {
     "name": "stdout",
     "output_type": "stream",
     "text": [
      "POLYGON ((-105.24530084 40.13033728, -105.24530084 40.13033728, -105.24530084 40.13033728, -105.24530084 40.13033728))\n",
      "0.0 0.0\n",
      "Help on function box in module shapely.geometry.geo:\n",
      "\n",
      "box(minx, miny, maxx, maxy, ccw=True)\n",
      "    Returns a rectangular polygon with configurable normal vector\n",
      "\n"
     ]
    }
   ],
   "source": [
    "from shapely.geometry import mapping, box\n",
    "\n",
    "ymin = np.min(ds_vnir.coords['y'].values)\n",
    "ymax = np.max(ds_vnir.coords['y'].values)\n",
    "xmin = np.min(ds_vnir.coords['x'].values)\n",
    "xmax = np.max(ds_vnir.coords['x'].values)\n",
    "\n",
    "ymin = np.min(y_vnir_rad)\n",
    "ymax = np.max(y_vnir_rad)\n",
    "xmin = np.min(x_vnir_rad)\n",
    "xmax = np.max(x_vnir_rad)\n",
    "\n",
    "\n",
    "\n",
    "print(box(xmin, ymin, xmax, ymax))\n",
    "print(ymin-ymax, xmin-xmax)\n",
    "help(box)"
   ]
  },
  {
   "cell_type": "code",
   "execution_count": 41,
   "metadata": {},
   "outputs": [
    {
     "data": {
      "text/plain": [
       "Coordinates:\n",
       "  * band        (band) int32 1 2 3 4 5 6 7 8 ... 263 264 265 266 267 268 269 270\n",
       "  * y           (y) float64 40.13 40.13 40.13 40.13 ... 40.13 40.13 40.13 40.13\n",
       "  * x           (x) float64 -105.2 -105.2 -105.2 -105.2 ... -105.2 -105.2 -105.2\n",
       "    wavelength  (band) float64 dask.array<shape=(270,), chunksize=(256,)>"
      ]
     },
     "execution_count": 41,
     "metadata": {},
     "output_type": "execute_result"
    }
   ],
   "source": [
    "xarr_VNIR_rad.coords"
   ]
  },
  {
   "cell_type": "code",
   "execution_count": 16,
   "metadata": {},
   "outputs": [
    {
     "name": "stdout",
     "output_type": "stream",
     "text": [
      "POLYGON ((-105.245007767967 40.13055617187175, -105.2450180127599 40.13053703798109, -105.2450428831238 40.13052906882128, -105.2450678103465 40.13053693261426, -105.245078192409 40.13055602286044, -105.2450679476302 40.13057515675631, -105.2450430772525 40.13058312592148, -105.2450181500157 40.13057526212327, -105.245007767967 40.13055617187175))\n"
     ]
    }
   ],
   "source": [
    "print(shapes[0][0])"
   ]
  },
  {
   "cell_type": "code",
   "execution_count": 13,
   "metadata": {},
   "outputs": [
    {
     "data": {
      "text/plain": [
       "<matplotlib.axes._subplots.AxesSubplot at 0x1e837cf8ef0>"
      ]
     },
     "execution_count": 13,
     "metadata": {},
     "output_type": "execute_result"
    },
    {
     "data": {
      "image/png": "[encoded data removed]",
      "text/plain": [
       "<Figure size 432x288 with 1 Axes>"
      ]
     },
     "metadata": {
      "needs_background": "light"
     },
     "output_type": "display_data"
    }
   ],
   "source": [
    "pt_df_hw.plot()"
   ]
  },
  {
   "cell_type": "code",
   "execution_count": null,
   "metadata": {},
   "outputs": [],
   "source": [
    "pt_df_neon[0]"
   ]
  },
  {
   "cell_type": "code",
   "execution_count": null,
   "metadata": {},
   "outputs": [],
   "source": [
    "# buffer them in the correct coordinate systems\n",
    "temp_hw = pt_df.to_crs(epsg=32613).buffer(buffer_dist, resolution=res).to_crs(epsg=4326)\n",
    "temp_neon = pt_df.to_crs(epsg=32613).buffer(buffer_dist)"
   ]
  },
  {
   "cell_type": "code",
   "execution_count": null,
   "metadata": {},
   "outputs": [],
   "source": [
    "pt_df['geometry'][0]"
   ]
  },
  {
   "cell_type": "code",
   "execution_count": null,
   "metadata": {},
   "outputs": [],
   "source": [
    "temp_hw[0]"
   ]
  },
  {
   "cell_type": "code",
   "execution_count": null,
   "metadata": {},
   "outputs": [],
   "source": [
    "temp_neon[0]"
   ]
  },
  {
   "cell_type": "code",
   "execution_count": null,
   "metadata": {},
   "outputs": [],
   "source": []
  }
 ],
 "metadata": {
  "kernelspec": {
   "display_name": "Python3 (eapy_gbdx)",
   "language": "python",
   "name": "eapy_gbdx"
  },
  "language_info": {
   "codemirror_mode": {
    "name": "ipython",
    "version": 3
   },
   "file_extension": ".py",
   "mimetype": "text/x-python",
   "name": "python",
   "nbconvert_exporter": "python",
   "pygments_lexer": "ipython3",
   "version": "3.6.7"
  }
 },
 "nbformat": 4,
 "nbformat_minor": 2
}
