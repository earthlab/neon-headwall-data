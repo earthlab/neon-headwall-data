{
 "cells": [
  {
   "cell_type": "code",
   "execution_count": 1,
   "metadata": {},
   "outputs": [],
   "source": [
    "import os,sys\n",
    "from glob import glob\n",
    "import xarray as xr\n",
    "from matplotlib import pyplot as plt\n",
    "import numpy as np\n",
    "import geopandas as gpd\n",
    "import pandas as pd\n",
    "import matplotlib\n",
    "import fiona\n",
    "\n",
    "# helpers\n",
    "from xarr_helpers import *\n"
   ]
  },
  {
   "cell_type": "code",
   "execution_count": 2,
   "metadata": {},
   "outputs": [
    {
     "name": "stdout",
     "output_type": "stream",
     "text": [
      "point CRS: {'init': 'epsg:32613'}\n"
     ]
    },
    {
     "data": {
      "text/html": [
       "<div>\n",
       "<style scoped>\n",
       "    .dataframe tbody tr th:only-of-type {\n",
       "        vertical-align: middle;\n",
       "    }\n",
       "\n",
       "    .dataframe tbody tr th {\n",
       "        vertical-align: top;\n",
       "    }\n",
       "\n",
       "    .dataframe thead th {\n",
       "        text-align: right;\n",
       "    }\n",
       "</style>\n",
       "<table border=\"1\" class=\"dataframe\">\n",
       "  <thead>\n",
       "    <tr style=\"text-align: right;\">\n",
       "      <th></th>\n",
       "      <th>Id</th>\n",
       "      <th>comments</th>\n",
       "      <th>geometry</th>\n",
       "    </tr>\n",
       "  </thead>\n",
       "  <tbody>\n",
       "    <tr>\n",
       "      <th>0</th>\n",
       "      <td>0</td>\n",
       "      <td>NEON light tarp center</td>\n",
       "      <td>POINT (-105.2449209483192 40.13056064633826)</td>\n",
       "    </tr>\n",
       "    <tr>\n",
       "      <th>1</th>\n",
       "      <td>0</td>\n",
       "      <td>NEON dark tarp center</td>\n",
       "      <td>POINT (-105.2450429801881 40.13055609737145)</td>\n",
       "    </tr>\n",
       "    <tr>\n",
       "      <th>2</th>\n",
       "      <td>0</td>\n",
       "      <td>some other target?</td>\n",
       "      <td>POINT (-105.2449348460157 40.13027956799884)</td>\n",
       "    </tr>\n",
       "    <tr>\n",
       "      <th>3</th>\n",
       "      <td>0</td>\n",
       "      <td>road sample east of tarps</td>\n",
       "      <td>POINT (-105.2445969512152 40.13050721903751)</td>\n",
       "    </tr>\n",
       "    <tr>\n",
       "      <th>4</th>\n",
       "      <td>0</td>\n",
       "      <td>4-way intersection</td>\n",
       "      <td>POINT (-105.2445888333624 40.1306683804434)</td>\n",
       "    </tr>\n",
       "  </tbody>\n",
       "</table>\n",
       "</div>"
      ],
      "text/plain": [
       "   Id                   comments                                      geometry\n",
       "0   0     NEON light tarp center  POINT (-105.2449209483192 40.13056064633826)\n",
       "1   0      NEON dark tarp center  POINT (-105.2450429801881 40.13055609737145)\n",
       "2   0         some other target?  POINT (-105.2449348460157 40.13027956799884)\n",
       "3   0  road sample east of tarps  POINT (-105.2445969512152 40.13050721903751)\n",
       "4   0         4-way intersection   POINT (-105.2445888333624 40.1306683804434)"
      ]
     },
     "execution_count": 2,
     "metadata": {},
     "output_type": "execute_result"
    }
   ],
   "source": [
    "# load the table mountain shapefile\n",
    "point_file = r\"../arc/headwall_neon_poi.shp\"\n",
    "gdf = gpd.read_file(point_file)\n",
    "print('point CRS: {}'.format(gdf.crs))\n",
    "\n",
    "gdf_4326 = gdf.to_crs(epsg=4326)\n",
    "gdf_4326.head()"
   ]
  },
  {
   "cell_type": "code",
   "execution_count": 3,
   "metadata": {},
   "outputs": [],
   "source": [
    "# NEON data files\n",
    "data_dirs = !ls -d ../neon_data/*\n",
    "radiance_files_april09 = glob(data_dirs[0] + '/L1/Spectrometer/RadianceH5/2019040915/*.h5')\n",
    "radiance_files_april10 = glob(data_dirs[1] + '/L1/Spectrometer/RadianceH5/2019040920/*.h5')\n",
    "\n",
    "reflectance_files_april09 = glob(data_dirs[0] + '/L1/Spectrometer/ReflectanceH5/2019040915/*.h5')\n",
    "reflectance_files_april10 = glob(data_dirs[1] + '/L1/Spectrometer/ReflectanceH5/2019040920/*.h5')\n",
    "\n",
    "\n",
    "# Headwall data files. Currently, only the Surface Reflectance products have been downloaded.\n",
    "data_dirs_SWIR = !ls -d ../headwall_data/SWIR/*\n",
    "data_dirs_VNIR = !ls -d ../headwall_data/VNIR/*\n",
    "\n",
    "# first two directories will be from table mountain. second two are from tennis courts @ CU South\n",
    "radiance_files_VNIR_april09 = glob(data_dirs_VNIR[0] + '/*.hdr')\n",
    "radiance_files_VNIR_april09 = [f[:-4] for f in radiance_files_VNIR_april09] # remove the .hdr\n",
    "\n",
    "radiance_files_SWIR_april09 = glob(data_dirs_SWIR[0] + '/*.hdr')\n",
    "radiance_files_SWIR_april09 = [f[:-4] for f in radiance_files_SWIR_april09] # remove the .hdr\n"
   ]
  },
  {
   "cell_type": "code",
   "execution_count": 4,
   "metadata": {},
   "outputs": [
    {
     "data": {
      "text/plain": [
       "(['../neon_data/2019_R10C_1/L1/Spectrometer/ReflectanceH5/2019040915\\\\NEON_D10_R10C_DP1_20190409_163351_reflectance.h5',\n",
       "  '../neon_data/2019_R10C_1/L1/Spectrometer/ReflectanceH5/2019040915\\\\NEON_D10_R10C_DP1_20190409_163915_reflectance.h5',\n",
       "  '../neon_data/2019_R10C_1/L1/Spectrometer/ReflectanceH5/2019040915\\\\NEON_D10_R10C_DP1_20190409_164414_reflectance.h5',\n",
       "  '../neon_data/2019_R10C_1/L1/Spectrometer/ReflectanceH5/2019040915\\\\NEON_D10_R10C_DP1_20190409_171839_reflectance.h5',\n",
       "  '../neon_data/2019_R10C_1/L1/Spectrometer/ReflectanceH5/2019040915\\\\NEON_D10_R10C_DP1_20190409_172333_reflectance.h5'],\n",
       " ['../headwall_data/VNIR/TableMtn_Flight1_processed\\\\TM_F1_S1',\n",
       "  '../headwall_data/VNIR/TableMtn_Flight1_processed\\\\TM_F1_S2',\n",
       "  '../headwall_data/VNIR/TableMtn_Flight1_processed\\\\TM_F1_S3',\n",
       "  '../headwall_data/VNIR/TableMtn_Flight1_processed\\\\TM_F1_S4',\n",
       "  '../headwall_data/VNIR/TableMtn_Flight1_processed\\\\TM_F1_S5'],\n",
       " ['../headwall_data/SWIR/TableMtn_Flight1_processed\\\\TM_F1_S1',\n",
       "  '../headwall_data/SWIR/TableMtn_Flight1_processed\\\\TM_F1_S2',\n",
       "  '../headwall_data/SWIR/TableMtn_Flight1_processed\\\\TM_F1_S3',\n",
       "  '../headwall_data/SWIR/TableMtn_Flight1_processed\\\\TM_F1_S4',\n",
       "  '../headwall_data/SWIR/TableMtn_Flight1_processed\\\\TM_F1_S5'])"
      ]
     },
     "execution_count": 4,
     "metadata": {},
     "output_type": "execute_result"
    }
   ],
   "source": [
    "reflectance_files_april09, radiance_files_VNIR_april09, radiance_files_SWIR_april09"
   ]
  },
  {
   "cell_type": "code",
   "execution_count": 5,
   "metadata": {},
   "outputs": [
    {
     "name": "stdout",
     "output_type": "stream",
     "text": [
      "NEON ID:  R10C\n"
     ]
    }
   ],
   "source": [
    "## try to open one of the data files with xarray\n",
    "neon_ind=3\n",
    "hw_ind=1\n",
    "data_file_VNIR = radiance_files_VNIR_april09[hw_ind]\n",
    "data_file_SWIR = radiance_files_SWIR_april09[hw_ind]\n",
    "data_file_NEON = reflectance_files_april09[3] # NEON_D10_R10C_DP1_20190409_172333_reflectance\n",
    "\n",
    "neon_id = os.path.basename(data_file_NEON).split('_')[2] # e.g., 'R10C'\n",
    "print('NEON ID: ', neon_id)"
   ]
  },
  {
   "cell_type": "code",
   "execution_count": 6,
   "metadata": {},
   "outputs": [
    {
     "name": "stderr",
     "output_type": "stream",
     "text": [
      "C:\\software\\anaconda3\\envs\\eapy_gbdx\\lib\\site-packages\\h5py\\_hl\\dataset.py:313: H5pyDeprecationWarning: dataset.value has been deprecated. Use dataset[()] instead.\n",
      "  \"Use dataset[()] instead.\", H5pyDeprecationWarning)\n"
     ]
    }
   ],
   "source": [
    "## read the data into xarray datasets, chunk with Dask\n",
    "# first Headwall\n",
    "xarr_VNIR = xr.open_rasterio(data_file_VNIR, chunks=(256,256,256))\n",
    "xarr_SWIR = xr.open_rasterio(data_file_SWIR, chunks=(256,256,256))\n",
    "x_vnir, y_vnir = xarr_VNIR.coords['x'].values, xarr_VNIR.coords['y'].values\n",
    "x_swir, y_swir = xarr_SWIR.coords['x'].values, xarr_SWIR.coords['y'].values\n",
    "\n",
    "# then NEON (dask chunking done in-function)\n",
    "x_neon, y_neon, xarr_NEON = NEON_create_refl_xarr_from_h5_file(data_file_NEON, nid=neon_id)\n"
   ]
  },
  {
   "cell_type": "markdown",
   "metadata": {},
   "source": [
    "# Spatial extraction"
   ]
  },
  {
   "cell_type": "code",
   "execution_count": 7,
   "metadata": {},
   "outputs": [],
   "source": [
    "buffer_dist = 3 # meters\n",
    "\n",
    "## use the shapefile\n",
    "pt_index = 0\n",
    "pt = gdf_4326['geometry'].values[pt_index]\n",
    "pt_label = gdf_4326['comments'].values[pt_index]\n",
    "pt_df = gpd.GeoDataFrame({'geometry' : [pt]}, crs=fiona.crs.from_epsg(4326))\n",
    "\n",
    "# buffer them in the correct coordinate systems\n",
    "pt_df_hw = pt_df.to_crs(epsg=3857).buffer(buffer_dist, resolution=1).to_crs(epsg=4326)\n",
    "pt_df_neon = pt_df.to_crs(epsg=32613).buffer(2)"
   ]
  },
  {
   "cell_type": "code",
   "execution_count": 8,
   "metadata": {},
   "outputs": [
    {
     "ename": "NameError",
     "evalue": "name 'y_neon' is not defined",
     "output_type": "error",
     "traceback": [
      "\u001b[1;31m---------------------------------------------------------------------------\u001b[0m",
      "\u001b[1;31mNameError\u001b[0m                                 Traceback (most recent call last)",
      "\u001b[1;32m<ipython-input-8-4abee6ac01a5>\u001b[0m in \u001b[0;36m<module>\u001b[1;34m\u001b[0m\n\u001b[0;32m      1\u001b[0m \u001b[1;31m## do the extraction\u001b[0m\u001b[1;33m\u001b[0m\u001b[1;33m\u001b[0m\u001b[1;33m\u001b[0m\u001b[0m\n\u001b[1;32m----> 2\u001b[1;33m \u001b[0mneon_sub_cube\u001b[0m\u001b[1;33m,\u001b[0m \u001b[0mneon_arrs\u001b[0m \u001b[1;33m=\u001b[0m \u001b[0mextract_from_NEON\u001b[0m\u001b[1;33m(\u001b[0m\u001b[1;33m(\u001b[0m\u001b[0mxarr_NEON\u001b[0m\u001b[1;33m,\u001b[0m \u001b[0mx_neon\u001b[0m\u001b[1;33m,\u001b[0m \u001b[0my_neon\u001b[0m\u001b[1;33m)\u001b[0m\u001b[1;33m,\u001b[0m \u001b[0mpt_df_neon\u001b[0m\u001b[1;33m)\u001b[0m\u001b[1;33m\u001b[0m\u001b[1;33m\u001b[0m\u001b[0m\n\u001b[0m\u001b[0;32m      3\u001b[0m hw_vnir_cube, hw_swir_cube, hw_arrs = extract_from_headwall((xarr_VNIR, x_vnir, y_vnir), \n\u001b[0;32m      4\u001b[0m                                                             \u001b[1;33m(\u001b[0m\u001b[0mxarr_SWIR\u001b[0m\u001b[1;33m,\u001b[0m \u001b[0mx_swir\u001b[0m\u001b[1;33m,\u001b[0m \u001b[0my_swir\u001b[0m\u001b[1;33m)\u001b[0m\u001b[1;33m,\u001b[0m\u001b[1;33m\u001b[0m\u001b[1;33m\u001b[0m\u001b[0m\n\u001b[0;32m      5\u001b[0m                                                             pt_df_hw)\n",
      "\u001b[1;32mD:\\projects\\headwall_neon\\notebooks\\xarr_helpers.py\u001b[0m in \u001b[0;36mextract_from_NEON\u001b[1;34m(hsi, geodf)\u001b[0m\n\u001b[0;32m    217\u001b[0m     \u001b[0mu_y\u001b[0m \u001b[1;33m=\u001b[0m \u001b[0mnp\u001b[0m\u001b[1;33m.\u001b[0m\u001b[0munique\u001b[0m\u001b[1;33m(\u001b[0m\u001b[0mval_y\u001b[0m\u001b[1;33m)\u001b[0m\u001b[1;33m\u001b[0m\u001b[1;33m\u001b[0m\u001b[0m\n\u001b[0;32m    218\u001b[0m     \u001b[0mu_x\u001b[0m \u001b[1;33m=\u001b[0m \u001b[0mnp\u001b[0m\u001b[1;33m.\u001b[0m\u001b[0munique\u001b[0m\u001b[1;33m(\u001b[0m\u001b[0mval_x\u001b[0m\u001b[1;33m)\u001b[0m\u001b[1;33m\u001b[0m\u001b[1;33m\u001b[0m\u001b[0m\n\u001b[1;32m--> 219\u001b[1;33m     \u001b[0mex_neon\u001b[0m \u001b[1;33m=\u001b[0m \u001b[0mexample_neon\u001b[0m\u001b[1;33m.\u001b[0m\u001b[0msel\u001b[0m\u001b[1;33m(\u001b[0m\u001b[0my\u001b[0m\u001b[1;33m=\u001b[0m\u001b[0my_neon\u001b[0m\u001b[1;33m[\u001b[0m\u001b[0mu_y\u001b[0m\u001b[1;33m]\u001b[0m\u001b[1;33m,\u001b[0m \u001b[0mx\u001b[0m\u001b[1;33m=\u001b[0m\u001b[0mx_neon\u001b[0m\u001b[1;33m[\u001b[0m\u001b[0mu_x\u001b[0m\u001b[1;33m]\u001b[0m\u001b[1;33m)\u001b[0m\u001b[1;33m\u001b[0m\u001b[1;33m\u001b[0m\u001b[0m\n\u001b[0m\u001b[0;32m    220\u001b[0m \u001b[1;33m\u001b[0m\u001b[0m\n\u001b[0;32m    221\u001b[0m     \u001b[0mfull_neon\u001b[0m \u001b[1;33m=\u001b[0m \u001b[0mex_neon\u001b[0m\u001b[1;33m.\u001b[0m\u001b[0mvalues\u001b[0m\u001b[1;33m.\u001b[0m\u001b[0mreshape\u001b[0m\u001b[1;33m(\u001b[0m\u001b[1;33m-\u001b[0m\u001b[1;36m1\u001b[0m\u001b[1;33m,\u001b[0m \u001b[0mex_neon\u001b[0m\u001b[1;33m.\u001b[0m\u001b[0mshape\u001b[0m\u001b[1;33m[\u001b[0m\u001b[1;33m-\u001b[0m\u001b[1;36m1\u001b[0m\u001b[1;33m]\u001b[0m\u001b[1;33m)\u001b[0m\u001b[1;33m.\u001b[0m\u001b[0mT\u001b[0m\u001b[1;33m/\u001b[0m\u001b[1;36m10000\u001b[0m\u001b[1;33m\u001b[0m\u001b[1;33m\u001b[0m\u001b[0m\n",
      "\u001b[1;31mNameError\u001b[0m: name 'y_neon' is not defined"
     ]
    }
   ],
   "source": [
    "## do the extraction\n",
    "neon_sub_cube, neon_arrs = extract_from_NEON((xarr_NEON, x_neon, y_neon), pt_df_neon)\n",
    "hw_vnir_cube, hw_swir_cube, hw_arrs = extract_from_headwall((xarr_VNIR, x_vnir, y_vnir), \n",
    "                                                            (xarr_SWIR, x_swir, y_swir),\n",
    "                                                            pt_df_hw)\n",
    "\n",
    "neon_wav, full_neon = neon_arrs\n",
    "full_wav, full_ex = hw_arrs"
   ]
  },
  {
   "cell_type": "markdown",
   "metadata": {},
   "source": [
    "# plot mean of both systems"
   ]
  },
  {
   "cell_type": "code",
   "execution_count": null,
   "metadata": {},
   "outputs": [],
   "source": [
    "hw_mean = np.nanmean(full_ex, axis=1)\n",
    "hw_max = np.nanmax(full_ex, axis=1)\n",
    "hw_min = np.nanmin(full_ex, axis=1)\n",
    "\n",
    "neon_mean = np.nanmean(full_neon, axis=1)\n",
    "neon_max = np.nanmax(full_neon, axis=1)\n",
    "neon_min = np.nanmin(full_neon, axis=1)"
   ]
  },
  {
   "cell_type": "code",
   "execution_count": null,
   "metadata": {},
   "outputs": [],
   "source": [
    "plt.figure(figsize=(20,10))\n",
    "plt.plot(full_wav, hw_mean)\n",
    "plt.fill_between(full_wav, hw_min, hw_max, alpha=0.1)\n",
    "plt.plot(neon_wav, neon_mean)\n",
    "plt.fill_between(neon_wav, neon_min, neon_max, alpha=0.1)\n",
    "plt.show()"
   ]
  },
  {
   "cell_type": "code",
   "execution_count": null,
   "metadata": {},
   "outputs": [],
   "source": [
    "## replot masking bad bands:\n",
    "# 1260 to 1560 nm (Bands 98-128)\n",
    "# 1760 to 1960 nm (Bands 148-170)\n",
    "bad_neon = np.where(((neon_wav > 1260) & (neon_wav < 1560)) | ((neon_wav > 1760) & (neon_wav < 1960)))\n",
    "bad_hw = np.where(((full_wav > 1260) & (full_wav < 1560)) | ((full_wav > 1760) & (full_wav < 1960)))"
   ]
  },
  {
   "cell_type": "code",
   "execution_count": null,
   "metadata": {},
   "outputs": [],
   "source": [
    "hw_mean_ma = hw_mean.copy()\n",
    "hw_mean_ma[bad_hw] = np.nan\n",
    "hw_max_ma = hw_max.copy()\n",
    "hw_max_ma[bad_hw] = np.nan\n",
    "hw_min_ma = hw_min.copy()\n",
    "hw_min_ma[bad_hw] = np.nan\n",
    "\n",
    "neon_mean_ma = neon_mean.copy()\n",
    "neon_mean_ma[bad_neon] = np.nan\n",
    "neon_max_ma = neon_max.copy()\n",
    "neon_max_ma[bad_neon] = np.nan\n",
    "neon_min_ma = neon_min.copy()\n",
    "neon_min_ma[bad_neon] = np.nan"
   ]
  },
  {
   "cell_type": "code",
   "execution_count": null,
   "metadata": {},
   "outputs": [],
   "source": [
    "font = {'family' : 'normal',\n",
    "        'weight' : 'medium',\n",
    "        'size'   : 20}\n",
    "\n",
    "matplotlib.rc('font', **font)\n",
    "\n",
    "plt.figure(figsize=(20,10))\n",
    "plt.plot(full_wav, hw_mean_ma, label='Headwall Average')\n",
    "plt.fill_between(full_wav, hw_min_ma, hw_max_ma, alpha=0.25)\n",
    "plt.plot(neon_wav, neon_mean_ma, label='NEON Average')\n",
    "plt.fill_between(neon_wav, neon_min_ma, neon_max_ma, alpha=0.25)\n",
    "\n",
    "plt.title('Comparison of Headwall NanoSpec ({0}m buffer) and NEON AVIRIS NextGen ({0}m buffer)\\n {1}'.format(buffer_dist, pt_label))\n",
    "plt.xlabel('Wavelength [nm]')\n",
    "plt.ylabel('Reflectance [unitless]')\n",
    "plt.grid(True)\n",
    "plt.legend()\n",
    "plt.show()"
   ]
  },
  {
   "cell_type": "markdown",
   "metadata": {},
   "source": [
    "# load the ASD for the white tarp"
   ]
  },
  {
   "cell_type": "code",
   "execution_count": null,
   "metadata": {},
   "outputs": [],
   "source": [
    "asd_spectra1 = \"../CUASD/20190409_TBMT_P3C1/0048WhiteTarp1/0048WhiteTarp1_refl.spectra\"\n",
    "asd_spectra2 = \"../CUASD/20190409_TBMT_P3C1/0048WhiteTarp2/0048WhiteTarp2_refl.spectra\"\n",
    "asd1 = pd.read_csv(asd_spectra1, names=['wavelength', 'refl'], header=None, delimiter=r'\\t', engine='python')\n",
    "asd2 = pd.read_csv(asd_spectra2, names=['wavelength', 'refl'], header=None, delimiter=r'\\t', engine='python')\n"
   ]
  },
  {
   "cell_type": "code",
   "execution_count": null,
   "metadata": {},
   "outputs": [],
   "source": [
    "ax = asd1.plot(x='wavelength', y='refl', figsize=(20,10), grid=True)\n",
    "asd2.plot(x='wavelength', y='refl', figsize=(20,10), grid=True, ax=ax)"
   ]
  },
  {
   "cell_type": "markdown",
   "metadata": {},
   "source": [
    "# they are pretty close, so just use the first one"
   ]
  },
  {
   "cell_type": "code",
   "execution_count": null,
   "metadata": {},
   "outputs": [],
   "source": [
    "## mask the water vapor features\n",
    "asd_wav = asd1.wavelength.values\n",
    "asd_refl = asd1.refl.values\n",
    "bad_asd = np.where(((asd_wav > 1260) & (asd_wav < 1560)) | ((asd_wav > 1760) & (asd_wav < 1960)))\n",
    "asd_refl[bad_asd] = np.nan"
   ]
  },
  {
   "cell_type": "code",
   "execution_count": null,
   "metadata": {},
   "outputs": [],
   "source": [
    "plt.figure(figsize=(20,10))\n",
    "plt.plot(full_wav, hw_mean_ma, label='Headwall Average')\n",
    "plt.fill_between(full_wav, hw_min_ma, hw_max_ma, alpha=0.25)\n",
    "plt.plot(neon_wav, neon_mean_ma, label='NEON Average')\n",
    "plt.fill_between(neon_wav, neon_min_ma, neon_max_ma, alpha=0.25)\n",
    "\n",
    "# ASD spectra\n",
    "plt.plot(asd_wav, asd_refl, linewidth=6, alpha=0.5, label='ASD Spectra')\n",
    "\n",
    "plt.title('Comparison of Headwall NanoSpec ({0}m buffer) and NEON AVIRIS NextGen ({0}m buffer)\\n {1}'.format(buffer_dist, pt_label))\n",
    "plt.xlabel('Wavelength [nm]')\n",
    "plt.ylabel('Reflectance [unitless]')\n",
    "plt.grid(True)\n",
    "plt.legend()\n",
    "plt.show()"
   ]
  },
  {
   "cell_type": "code",
   "execution_count": null,
   "metadata": {},
   "outputs": [],
   "source": []
  },
  {
   "cell_type": "code",
   "execution_count": null,
   "metadata": {},
   "outputs": [],
   "source": []
  }
 ],
 "metadata": {
  "kernelspec": {
   "display_name": "Python3 (eapy_gbdx)",
   "language": "python",
   "name": "eapy_gbdx"
  },
  "language_info": {
   "codemirror_mode": {
    "name": "ipython",
    "version": 3
   },
   "file_extension": ".py",
   "mimetype": "text/x-python",
   "name": "python",
   "nbconvert_exporter": "python",
   "pygments_lexer": "ipython3",
   "version": "3.6.7"
  }
 },
 "nbformat": 4,
 "nbformat_minor": 2
}
